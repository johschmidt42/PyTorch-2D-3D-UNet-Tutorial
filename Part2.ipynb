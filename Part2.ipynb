{
 "cells": [
  {
   "cell_type": "code",
   "execution_count": 1,
   "metadata": {},
   "outputs": [
    {
     "name": "stdout",
     "output_type": "stream",
     "text": [
      "Out: torch.Size([1, 2, 512, 512])\n"
     ]
    }
   ],
   "source": [
    "import torch\n",
    "from unet import UNet\n",
    "\n",
    "model = UNet(\n",
    "    in_channels=1,\n",
    "    out_channels=2,\n",
    "    n_blocks=4,\n",
    "    start_filters=32,\n",
    "    activation=\"relu\",\n",
    "    normalization=\"batch\",\n",
    "    conv_mode=\"same\",\n",
    "    dim=2,\n",
    ")\n",
    "\n",
    "x = torch.randn(size=(1, 1, 512, 512), dtype=torch.float32)\n",
    "with torch.no_grad():\n",
    "    out = model(x)\n",
    "\n",
    "print(f\"Out: {out.shape}\")\n"
   ]
  },
  {
   "cell_type": "code",
   "execution_count": 2,
   "metadata": {},
   "outputs": [
    {
     "data": {
      "text/plain": [
       "==========================================================================================\n",
       "Layer (type:depth-idx)                   Output Shape              Param #\n",
       "==========================================================================================\n",
       "UNet                                     --                        --\n",
       "├─ModuleList: 1-1                        --                        --\n",
       "├─ModuleList: 1-2                        --                        --\n",
       "├─ModuleList: 1-1                        --                        --\n",
       "│    └─DownBlock: 2-1                    [1, 32, 256, 256]         --\n",
       "│    │    └─Conv2d: 3-1                  [1, 32, 512, 512]         320\n",
       "│    │    └─ReLU: 3-2                    [1, 32, 512, 512]         --\n",
       "│    │    └─BatchNorm2d: 3-3             [1, 32, 512, 512]         64\n",
       "│    │    └─Conv2d: 3-4                  [1, 32, 512, 512]         9,248\n",
       "│    │    └─ReLU: 3-5                    [1, 32, 512, 512]         --\n",
       "│    │    └─BatchNorm2d: 3-6             [1, 32, 512, 512]         64\n",
       "│    │    └─MaxPool2d: 3-7               [1, 32, 256, 256]         --\n",
       "│    └─DownBlock: 2-2                    [1, 64, 128, 128]         --\n",
       "│    │    └─Conv2d: 3-8                  [1, 64, 256, 256]         18,496\n",
       "│    │    └─ReLU: 3-9                    [1, 64, 256, 256]         --\n",
       "│    │    └─BatchNorm2d: 3-10            [1, 64, 256, 256]         128\n",
       "│    │    └─Conv2d: 3-11                 [1, 64, 256, 256]         36,928\n",
       "│    │    └─ReLU: 3-12                   [1, 64, 256, 256]         --\n",
       "│    │    └─BatchNorm2d: 3-13            [1, 64, 256, 256]         128\n",
       "│    │    └─MaxPool2d: 3-14              [1, 64, 128, 128]         --\n",
       "│    └─DownBlock: 2-3                    [1, 128, 64, 64]          --\n",
       "│    │    └─Conv2d: 3-15                 [1, 128, 128, 128]        73,856\n",
       "│    │    └─ReLU: 3-16                   [1, 128, 128, 128]        --\n",
       "│    │    └─BatchNorm2d: 3-17            [1, 128, 128, 128]        256\n",
       "│    │    └─Conv2d: 3-18                 [1, 128, 128, 128]        147,584\n",
       "│    │    └─ReLU: 3-19                   [1, 128, 128, 128]        --\n",
       "│    │    └─BatchNorm2d: 3-20            [1, 128, 128, 128]        256\n",
       "│    │    └─MaxPool2d: 3-21              [1, 128, 64, 64]          --\n",
       "│    └─DownBlock: 2-4                    [1, 256, 64, 64]          --\n",
       "│    │    └─Conv2d: 3-22                 [1, 256, 64, 64]          295,168\n",
       "│    │    └─ReLU: 3-23                   [1, 256, 64, 64]          --\n",
       "│    │    └─BatchNorm2d: 3-24            [1, 256, 64, 64]          512\n",
       "│    │    └─Conv2d: 3-25                 [1, 256, 64, 64]          590,080\n",
       "│    │    └─ReLU: 3-26                   [1, 256, 64, 64]          --\n",
       "│    │    └─BatchNorm2d: 3-27            [1, 256, 64, 64]          512\n",
       "├─ModuleList: 1-2                        --                        --\n",
       "│    └─UpBlock: 2-5                      [1, 128, 128, 128]        --\n",
       "│    │    └─ConvTranspose2d: 3-28        [1, 128, 128, 128]        131,200\n",
       "│    │    └─ReLU: 3-29                   [1, 128, 128, 128]        --\n",
       "│    │    └─BatchNorm2d: 3-30            [1, 128, 128, 128]        256\n",
       "│    │    └─Concatenate: 3-31            [1, 256, 128, 128]        --\n",
       "│    │    └─Conv2d: 3-32                 [1, 128, 128, 128]        295,040\n",
       "│    │    └─ReLU: 3-33                   [1, 128, 128, 128]        --\n",
       "│    │    └─BatchNorm2d: 3-34            [1, 128, 128, 128]        256\n",
       "│    │    └─Conv2d: 3-35                 [1, 128, 128, 128]        147,584\n",
       "│    │    └─ReLU: 3-36                   [1, 128, 128, 128]        --\n",
       "│    │    └─BatchNorm2d: 3-37            [1, 128, 128, 128]        256\n",
       "│    └─UpBlock: 2-6                      [1, 64, 256, 256]         --\n",
       "│    │    └─ConvTranspose2d: 3-38        [1, 64, 256, 256]         32,832\n",
       "│    │    └─ReLU: 3-39                   [1, 64, 256, 256]         --\n",
       "│    │    └─BatchNorm2d: 3-40            [1, 64, 256, 256]         128\n",
       "│    │    └─Concatenate: 3-41            [1, 128, 256, 256]        --\n",
       "│    │    └─Conv2d: 3-42                 [1, 64, 256, 256]         73,792\n",
       "│    │    └─ReLU: 3-43                   [1, 64, 256, 256]         --\n",
       "│    │    └─BatchNorm2d: 3-44            [1, 64, 256, 256]         128\n",
       "│    │    └─Conv2d: 3-45                 [1, 64, 256, 256]         36,928\n",
       "│    │    └─ReLU: 3-46                   [1, 64, 256, 256]         --\n",
       "│    │    └─BatchNorm2d: 3-47            [1, 64, 256, 256]         128\n",
       "│    └─UpBlock: 2-7                      [1, 32, 512, 512]         --\n",
       "│    │    └─ConvTranspose2d: 3-48        [1, 32, 512, 512]         8,224\n",
       "│    │    └─ReLU: 3-49                   [1, 32, 512, 512]         --\n",
       "│    │    └─BatchNorm2d: 3-50            [1, 32, 512, 512]         64\n",
       "│    │    └─Concatenate: 3-51            [1, 64, 512, 512]         --\n",
       "│    │    └─Conv2d: 3-52                 [1, 32, 512, 512]         18,464\n",
       "│    │    └─ReLU: 3-53                   [1, 32, 512, 512]         --\n",
       "│    │    └─BatchNorm2d: 3-54            [1, 32, 512, 512]         64\n",
       "│    │    └─Conv2d: 3-55                 [1, 32, 512, 512]         9,248\n",
       "│    │    └─ReLU: 3-56                   [1, 32, 512, 512]         --\n",
       "│    │    └─BatchNorm2d: 3-57            [1, 32, 512, 512]         64\n",
       "├─Conv2d: 1-3                            [1, 2, 512, 512]          66\n",
       "==========================================================================================\n",
       "Total params: 1,928,322\n",
       "Trainable params: 1,928,322\n",
       "Non-trainable params: 0\n",
       "Total mult-adds (G): 41.64\n",
       "==========================================================================================\n",
       "Input size (MB): 1.05\n",
       "Forward/backward pass size (MB): 1212.15\n",
       "Params size (MB): 7.71\n",
       "Estimated Total Size (MB): 1220.92\n",
       "=========================================================================================="
      ]
     },
     "execution_count": 2,
     "metadata": {},
     "output_type": "execute_result"
    }
   ],
   "source": [
    "from torchinfo import summary\n",
    "\n",
    "summary = summary(model=model, input_size=(1, 1, 512, 512), device=\"cpu\")\n",
    "summary"
   ]
  },
  {
   "cell_type": "code",
   "execution_count": 3,
   "metadata": {},
   "outputs": [
    {
     "name": "stdout",
     "output_type": "stream",
     "text": [
      "Level 1: 960.0\n",
      "Level 2: 480.0\n",
      "Level 3: 240.0\n",
      "Level 4: 120.0\n",
      "Level 5: 60.0\n",
      "Level 6: 30.0\n",
      "Level 7: 15.0\n",
      "Max-level: 7\n"
     ]
    }
   ],
   "source": [
    "shape = 1920\n",
    "\n",
    "\n",
    "def compute_max_depth(shape, max_depth=10, print_out=True):\n",
    "    shapes = []\n",
    "    shapes.append(shape)\n",
    "    for level in range(1, max_depth):\n",
    "        if shape % 2 ** level == 0 and shape / 2 ** level > 1:\n",
    "            shapes.append(shape / 2 ** level)\n",
    "            if print_out:\n",
    "                print(f\"Level {level}: {shape / 2 ** level}\")\n",
    "        else:\n",
    "            if print_out:\n",
    "                print(f\"Max-level: {level - 1}\")\n",
    "            break\n",
    "\n",
    "    return shapes\n",
    "\n",
    "\n",
    "out = compute_max_depth(shape, print_out=True, max_depth=10)\n"
   ]
  },
  {
   "cell_type": "code",
   "execution_count": 4,
   "metadata": {
    "collapsed": false,
    "jupyter": {
     "outputs_hidden": false
    },
    "pycharm": {
     "name": "#%%\n"
    }
   },
   "outputs": [
    {
     "data": {
      "text/plain": [
       "{256: [256, 128.0, 64.0, 32.0, 16.0, 8.0, 4.0, 2.0],\n",
       " 384: [384, 192.0, 96.0, 48.0, 24.0, 12.0, 6.0, 3.0],\n",
       " 512: [512, 256.0, 128.0, 64.0, 32.0, 16.0, 8.0, 4.0]}"
      ]
     },
     "execution_count": 4,
     "metadata": {},
     "output_type": "execute_result"
    }
   ],
   "source": [
    "low = 10\n",
    "high = 512\n",
    "depth = 8\n",
    "\n",
    "\n",
    "def compute_possible_shapes(low, high, depth):\n",
    "    possible_shapes = {}\n",
    "    for shape in range(low, high + 1):\n",
    "        shapes = compute_max_depth(shape, max_depth=depth, print_out=False)\n",
    "        if len(shapes) == depth:\n",
    "            possible_shapes[shape] = shapes\n",
    "\n",
    "    return possible_shapes\n",
    "\n",
    "\n",
    "possible_shapes = compute_possible_shapes(low, high, depth)\n",
    "possible_shapes\n"
   ]
  },
  {
   "cell_type": "code",
   "execution_count": 5,
   "metadata": {},
   "outputs": [
    {
     "data": {
      "text/plain": [
       "{256: [256, 128.0, 64.0, 32.0, 16.0, 8.0, 4.0, 2.0],\n",
       " 384: [384, 192.0, 96.0, 48.0, 24.0, 12.0, 6.0, 3.0],\n",
       " 512: [512, 256.0, 128.0, 64.0, 32.0, 16.0, 8.0, 4.0]}"
      ]
     },
     "execution_count": 5,
     "metadata": {},
     "output_type": "execute_result"
    }
   ],
   "source": [
    "low = 10\n",
    "high = 512\n",
    "depth = 8\n",
    "\n",
    "\n",
    "def compute_possible_shapes(low, high, depth):\n",
    "    possible_shapes = {}\n",
    "    for shape in range(low, high + 1):\n",
    "        shapes = compute_max_depth(shape, max_depth=depth, print_out=False)\n",
    "        if len(shapes) == depth:\n",
    "            possible_shapes[shape] = shapes\n",
    "\n",
    "    return possible_shapes\n",
    "\n",
    "\n",
    "possible_shapes = compute_possible_shapes(low, high, depth)\n",
    "possible_shapes\n"
   ]
  }
 ],
 "metadata": {
  "kernelspec": {
   "display_name": "Python 3 (ipykernel)",
   "language": "python",
   "name": "python3"
  },
  "language_info": {
   "codemirror_mode": {
    "name": "ipython",
    "version": 3
   },
   "file_extension": ".py",
   "mimetype": "text/x-python",
   "name": "python",
   "nbconvert_exporter": "python",
   "pygments_lexer": "ipython3",
   "version": "3.8.12"
  }
 },
 "nbformat": 4,
 "nbformat_minor": 4
}
